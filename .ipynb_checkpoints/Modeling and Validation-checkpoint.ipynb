{
 "cells": [
  {
   "cell_type": "markdown",
   "metadata": {},
   "source": [
    "<p style=\"color:blue; font-family:tahoma; font-size:100%\">\n",
    "<b>Author:</b>  Abhinav Dwivedi<br/>\n",
    "<b>Python version:</b>  >3.6<br/>\n",
    "<b>External Packages:</b> pandas, matplotlib, sklearn, numpy<br/>\n",
    "<b>Last update:</b> 31st Jan 2018\n",
    "\n",
    "<b>About this project:</b> This is an academic project, submitted as a part of semester credits in \"Big Data analytics by Prof. <a href=\"http://kdd.isti.cnr.it/people/giannotti-fosca\">Fosca Giannotti</a> and <a href=\"https://lucapappalardo.com\"> Luca Pappalardo </a>\" at Università di Pisa. \n",
    "</span></p>"
   ]
  },
  {
   "cell_type": "markdown",
   "metadata": {},
   "source": [
    "<a id='top'></a>\n",
    "# *Data modeling*\n",
    "<p style=\"color:blue; font-family:tahoma; font-size:100%\">\n",
    "In this notebook, we utilize the data from the previous ones and model that data in order to predict the 'Outcome'. The modeling is done on dummy classifier as for benchmark. Then it is compared with knn and Random forest classifier. \n",
    "<br>\n",
    "</p>"
   ]
  },
  {
   "cell_type": "markdown",
   "metadata": {},
   "source": [
    "## Table of Contents\n",
    "\n",
    "\n",
    "\n",
    "1.  [Dealing with imbalance in the data](#clean)\n",
    "    1. [Merging/deleting attributes](#merge)\n",
    "    2. [Subsampling (Optional)](#sample)\n",
    "2. [Encoding and splitting the features](#encode)\n",
    "3. [Classification](#classify)\n",
    "    1. [Dummy Classifier / Benchmark](#dummy)\n",
    "    2. [k nearest neighbors classifier](#knn)\n",
    "    3. [Random forest classifier](#rf)\n",
    "4. [Measuring performance of classifiers over test data](#predict)\n",
    "    1. [Dummy classifier](#pdummy)\n",
    "    2. [k nearest neighbors](#pknn)\n",
    "    3. [Random forest classifier](#prf)"
   ]
  },
  {
   "cell_type": "code",
   "execution_count": null,
   "metadata": {},
   "outputs": [],
   "source": [
    "import pandas as pd\n",
    "import numpy as np\n",
    "import operator\n",
    "import matplotlib.pyplot as plt\n",
    "import seaborn as sn\n",
    "import pprint as pp"
   ]
  },
  {
   "cell_type": "markdown",
   "metadata": {},
   "source": [
    "<a id=\"clean\"></a>\n",
    "## 1. Dealing with imbalance in the data ([To top](#top))"
   ]
  },
  {
   "cell_type": "code",
   "execution_count": 4,
   "metadata": {},
   "outputs": [],
   "source": [
    "data=pd.read_csv('cleanedLondonStopAndSearch.csv')"
   ]
  },
  {
   "cell_type": "code",
   "execution_count": 5,
   "metadata": {},
   "outputs": [
    {
     "data": {
      "text/html": [
       "<div>\n",
       "<style scoped>\n",
       "    .dataframe tbody tr th:only-of-type {\n",
       "        vertical-align: middle;\n",
       "    }\n",
       "\n",
       "    .dataframe tbody tr th {\n",
       "        vertical-align: top;\n",
       "    }\n",
       "\n",
       "    .dataframe thead th {\n",
       "        text-align: right;\n",
       "    }\n",
       "</style>\n",
       "<table border=\"1\" class=\"dataframe\">\n",
       "  <thead>\n",
       "    <tr style=\"text-align: right;\">\n",
       "      <th></th>\n",
       "      <th>Type</th>\n",
       "      <th>Gender</th>\n",
       "      <th>Age range</th>\n",
       "      <th>Officer-defined ethnicity</th>\n",
       "      <th>Object of search</th>\n",
       "      <th>Outcome</th>\n",
       "    </tr>\n",
       "  </thead>\n",
       "  <tbody>\n",
       "    <tr>\n",
       "      <th>0</th>\n",
       "      <td>Person search</td>\n",
       "      <td>Male</td>\n",
       "      <td>25-34</td>\n",
       "      <td>Asian</td>\n",
       "      <td>Stolen goods</td>\n",
       "      <td>Suspect arrested</td>\n",
       "    </tr>\n",
       "    <tr>\n",
       "      <th>1</th>\n",
       "      <td>Person search</td>\n",
       "      <td>Male</td>\n",
       "      <td>25-34</td>\n",
       "      <td>Asian</td>\n",
       "      <td>Stolen goods</td>\n",
       "      <td>Suspect arrested</td>\n",
       "    </tr>\n",
       "    <tr>\n",
       "      <th>2</th>\n",
       "      <td>Person search</td>\n",
       "      <td>Male</td>\n",
       "      <td>over 34</td>\n",
       "      <td>White</td>\n",
       "      <td>Stolen goods</td>\n",
       "      <td>Suspect arrested</td>\n",
       "    </tr>\n",
       "    <tr>\n",
       "      <th>3</th>\n",
       "      <td>Person and Vehicle search</td>\n",
       "      <td>Male</td>\n",
       "      <td>25-34</td>\n",
       "      <td>White</td>\n",
       "      <td>Stolen goods</td>\n",
       "      <td>Suspect arrested</td>\n",
       "    </tr>\n",
       "    <tr>\n",
       "      <th>4</th>\n",
       "      <td>Person search</td>\n",
       "      <td>Male</td>\n",
       "      <td>25-34</td>\n",
       "      <td>Asian</td>\n",
       "      <td>Controlled drugs</td>\n",
       "      <td>Nothing found - no further action</td>\n",
       "    </tr>\n",
       "  </tbody>\n",
       "</table>\n",
       "</div>"
      ],
      "text/plain": [
       "                        Type Gender Age range Officer-defined ethnicity  \\\n",
       "0              Person search   Male     25-34                     Asian   \n",
       "1              Person search   Male     25-34                     Asian   \n",
       "2              Person search   Male   over 34                     White   \n",
       "3  Person and Vehicle search   Male     25-34                     White   \n",
       "4              Person search   Male     25-34                     Asian   \n",
       "\n",
       "   Object of search                            Outcome  \n",
       "0      Stolen goods                   Suspect arrested  \n",
       "1      Stolen goods                   Suspect arrested  \n",
       "2      Stolen goods                   Suspect arrested  \n",
       "3      Stolen goods                   Suspect arrested  \n",
       "4  Controlled drugs  Nothing found - no further action  "
      ]
     },
     "execution_count": 5,
     "metadata": {},
     "output_type": "execute_result"
    }
   ],
   "source": [
    "data.head()"
   ]
  },
  {
   "cell_type": "markdown",
   "metadata": {},
   "source": [
    "We plan to use 'Type', 'Age range', 'Ethnicity' and 'Object of search' as feature to predict the outcome. "
   ]
  },
  {
   "cell_type": "markdown",
   "metadata": {},
   "source": [
    "<a id=\"merge\"></a>\n",
    "### A. Merging/Deleting irrelavent features ([To top](#top))"
   ]
  },
  {
   "cell_type": "code",
   "execution_count": 6,
   "metadata": {},
   "outputs": [
    {
     "data": {
      "image/png": "[encoded data removed]",
      "text/plain": [
       "<matplotlib.figure.Figure at 0x7fc7f58e7f60>"
      ]
     },
     "metadata": {},
     "output_type": "display_data"
    }
   ],
   "source": [
    "outcomes = data.groupby(['Outcome']).size().reset_index(name='counts').sort_values('counts',ascending=False)\n",
    "outcomes.plot.bar(x='Outcome',figsize=(10,5), rot=90)\n",
    "plt.show()"
   ]
  },
  {
   "cell_type": "markdown",
   "metadata": {},
   "source": [
    "The Type, Age range, Ethnicity, and Object of search can be used to try to predict the outcome. \n",
    "\n",
    "We can also merge the Outcome into only two classes, where 'Nothing found = no further action' can be said as 'unsuccessful' investigation while the others can be said 'successful'. "
   ]
  },
  {
   "cell_type": "code",
   "execution_count": 7,
   "metadata": {},
   "outputs": [
    {
     "name": "stdout",
     "output_type": "stream",
     "text": [
      "205460/205461\r"
     ]
    }
   ],
   "source": [
    "len_=len(data)\n",
    "for idx, value in enumerate(data.Outcome):\n",
    "    print(\"{}/{}\".format(idx, len_), end=\"\\r\")\n",
    "    if value==\"Nothing found - no further action\":\n",
    "        data.Outcome[idx]=\"unsuccessful\"\n",
    "    else:\n",
    "         data.Outcome[idx]=\"successful\""
   ]
  },
  {
   "cell_type": "code",
   "execution_count": 8,
   "metadata": {},
   "outputs": [
    {
     "data": {
      "image/png": "[encoded data removed]",
      "text/plain": [
       "<matplotlib.figure.Figure at 0x7fc8c73348d0>"
      ]
     },
     "metadata": {},
     "output_type": "display_data"
    }
   ],
   "source": [
    "outcomes = data.groupby(['Outcome']).size().reset_index(name='counts').sort_values('counts',ascending=False)\n",
    "outcomes.plot.bar(x='Outcome',figsize=(10,5), rot=90)\n",
    "plt.show()"
   ]
  },
  {
   "cell_type": "markdown",
   "metadata": {},
   "source": [
    "The balance in the labels now looks better than before but we can still subsample 'successful' a bit to minimize the difference. [Later]"
   ]
  },
  {
   "cell_type": "code",
   "execution_count": 9,
   "metadata": {},
   "outputs": [
    {
     "data": {
      "image/png": "[encoded data removed]",
      "text/plain": [
       "<matplotlib.figure.Figure at 0x7fc7f58007b8>"
      ]
     },
     "metadata": {},
     "output_type": "display_data"
    }
   ],
   "source": [
    "objects = data.groupby(['Object of search']).size().reset_index(name='counts').sort_values('counts',ascending=False)\n",
    "objects.plot.bar(x='Object of search',figsize=(10,5), rot=90)\n",
    "plt.show()"
   ]
  },
  {
   "cell_type": "markdown",
   "metadata": {},
   "source": [
    "The investigations against controlled drugs are in majority. Hence, we can merge the other minority investigations to draw a conclusion on only two types of investigations, ie. Controlled drugs and the other types. "
   ]
  },
  {
   "cell_type": "code",
   "execution_count": 10,
   "metadata": {},
   "outputs": [
    {
     "name": "stdout",
     "output_type": "stream",
     "text": [
      "205460/205461\r"
     ]
    }
   ],
   "source": [
    "for idx, value in enumerate(data['Object of search']):\n",
    "    print(\"{}/{}\".format(idx, len_), end=\"\\r\")\n",
    "    if not value==\"Controlled drugs\":\n",
    "        data['Object of search'][idx]=\"firearms/stolengoods/threatening/theft/fireworks/offence/weapons\""
   ]
  },
  {
   "cell_type": "code",
   "execution_count": 11,
   "metadata": {},
   "outputs": [
    {
     "data": {
      "image/png": "[encoded data removed]",
      "text/plain": [
       "<matplotlib.figure.Figure at 0x7fc7f58569e8>"
      ]
     },
     "metadata": {},
     "output_type": "display_data"
    }
   ],
   "source": [
    "objects = data.groupby(['Object of search']).size().reset_index(name='counts').sort_values('counts',ascending=False)\n",
    "objects.plot.bar(x='Object of search',figsize=(10,5), rot=90)\n",
    "plt.show()"
   ]
  },
  {
   "cell_type": "code",
   "execution_count": 13,
   "metadata": {},
   "outputs": [],
   "source": [
    "data.to_csv('cleanedData.csv', index=None)"
   ]
  },
  {
   "cell_type": "markdown",
   "metadata": {},
   "source": [
    "<a id=\"sample\"></a>\n",
    "### B. Subsampling the majority class (Optional)([To top](#top))"
   ]
  },
  {
   "cell_type": "markdown",
   "metadata": {},
   "source": [
    "Now our data contains all the features categorical. These features needs to be encoded to numerical features. "
   ]
  },
  {
   "cell_type": "markdown",
   "metadata": {},
   "source": [
    "Before we encode data, we need to subsample the majority class a bit. We can simply take all the rows where Outcome is 'unsuccessful' and then select random number of rows according to our needs. "
   ]
  },
  {
   "cell_type": "code",
   "execution_count": 14,
   "metadata": {},
   "outputs": [],
   "source": [
    "data=pd.read_csv('cleanedData.csv')"
   ]
  },
  {
   "cell_type": "code",
   "execution_count": 15,
   "metadata": {},
   "outputs": [],
   "source": [
    "tempData1=data[data['Outcome']!='successful']\n",
    "tempData2=data[data['Outcome']!='unsuccessful']\n",
    "tempData1=tempData1.sample(n=90000)\n",
    "data=pd.concat([tempData1, tempData2], axis=0)\n",
    "data = data.sample(frac=1).reset_index(drop=True)\n",
    "tempData1=0\n",
    "tempData2=0"
   ]
  },
  {
   "cell_type": "code",
   "execution_count": 19,
   "metadata": {},
   "outputs": [
    {
     "data": {
      "text/html": [
       "<div>\n",
       "<style scoped>\n",
       "    .dataframe tbody tr th:only-of-type {\n",
       "        vertical-align: middle;\n",
       "    }\n",
       "\n",
       "    .dataframe tbody tr th {\n",
       "        vertical-align: top;\n",
       "    }\n",
       "\n",
       "    .dataframe thead th {\n",
       "        text-align: right;\n",
       "    }\n",
       "</style>\n",
       "<table border=\"1\" class=\"dataframe\">\n",
       "  <thead>\n",
       "    <tr style=\"text-align: right;\">\n",
       "      <th></th>\n",
       "      <th>Type</th>\n",
       "      <th>Age range</th>\n",
       "      <th>Officer-defined ethnicity</th>\n",
       "      <th>Object of search</th>\n",
       "      <th>Outcome</th>\n",
       "    </tr>\n",
       "  </thead>\n",
       "  <tbody>\n",
       "    <tr>\n",
       "      <th>0</th>\n",
       "      <td>Person search</td>\n",
       "      <td>18-24</td>\n",
       "      <td>Black</td>\n",
       "      <td>firearms/stolengoods/threatening/theft/firewor...</td>\n",
       "      <td>unsuccessful</td>\n",
       "    </tr>\n",
       "    <tr>\n",
       "      <th>1</th>\n",
       "      <td>Person search</td>\n",
       "      <td>18-24</td>\n",
       "      <td>Black</td>\n",
       "      <td>Controlled drugs</td>\n",
       "      <td>successful</td>\n",
       "    </tr>\n",
       "    <tr>\n",
       "      <th>2</th>\n",
       "      <td>Person and Vehicle search</td>\n",
       "      <td>over 34</td>\n",
       "      <td>Asian</td>\n",
       "      <td>Controlled drugs</td>\n",
       "      <td>successful</td>\n",
       "    </tr>\n",
       "    <tr>\n",
       "      <th>3</th>\n",
       "      <td>Person search</td>\n",
       "      <td>18-24</td>\n",
       "      <td>White</td>\n",
       "      <td>firearms/stolengoods/threatening/theft/firewor...</td>\n",
       "      <td>unsuccessful</td>\n",
       "    </tr>\n",
       "    <tr>\n",
       "      <th>4</th>\n",
       "      <td>Person search</td>\n",
       "      <td>25-34</td>\n",
       "      <td>White</td>\n",
       "      <td>firearms/stolengoods/threatening/theft/firewor...</td>\n",
       "      <td>unsuccessful</td>\n",
       "    </tr>\n",
       "  </tbody>\n",
       "</table>\n",
       "</div>"
      ],
      "text/plain": [
       "                        Type Age range Officer-defined ethnicity  \\\n",
       "0              Person search     18-24                     Black   \n",
       "1              Person search     18-24                     Black   \n",
       "2  Person and Vehicle search   over 34                     Asian   \n",
       "3              Person search     18-24                     White   \n",
       "4              Person search     25-34                     White   \n",
       "\n",
       "                                    Object of search       Outcome  \n",
       "0  firearms/stolengoods/threatening/theft/firewor...  unsuccessful  \n",
       "1                                   Controlled drugs    successful  \n",
       "2                                   Controlled drugs    successful  \n",
       "3  firearms/stolengoods/threatening/theft/firewor...  unsuccessful  \n",
       "4  firearms/stolengoods/threatening/theft/firewor...  unsuccessful  "
      ]
     },
     "execution_count": 19,
     "metadata": {},
     "output_type": "execute_result"
    }
   ],
   "source": [
    "data.head()"
   ]
  },
  {
   "cell_type": "markdown",
   "metadata": {},
   "source": [
    "<a id=\"encode\"></a>\n",
    "## 2. Encoding and splitting features ([To top](#top))"
   ]
  },
  {
   "cell_type": "code",
   "execution_count": 20,
   "metadata": {},
   "outputs": [],
   "source": [
    "data=pd.read_csv('cleanedData.csv')"
   ]
  },
  {
   "cell_type": "code",
   "execution_count": 21,
   "metadata": {},
   "outputs": [],
   "source": [
    "from sklearn.model_selection import train_test_split"
   ]
  },
  {
   "cell_type": "code",
   "execution_count": 22,
   "metadata": {},
   "outputs": [],
   "source": [
    "features=pd.get_dummies(data.drop(['Outcome'], axis=1))\n",
    "labels=pd.get_dummies(data['Outcome'])"
   ]
  },
  {
   "cell_type": "code",
   "execution_count": 23,
   "metadata": {},
   "outputs": [],
   "source": [
    "trainFeatures, testFeatures, trainLabels, testLabels = train_test_split(features, labels, test_size = 0.25, random_state = 42)"
   ]
  },
  {
   "cell_type": "code",
   "execution_count": 24,
   "metadata": {},
   "outputs": [
    {
     "name": "stdout",
     "output_type": "stream",
     "text": [
      "#training Features :  117211\n",
      "#test Features :  39071\n",
      "#training Labels :  117211\n",
      "#test Labels :  39071\n"
     ]
    }
   ],
   "source": [
    "print(\"#training Features : \", len(trainFeatures))\n",
    "print(\"#test Features : \", len(testFeatures))\n",
    "print(\"#training Labels : \", len(trainLabels))\n",
    "print(\"#test Labels : \", len(testLabels))"
   ]
  },
  {
   "cell_type": "markdown",
   "metadata": {},
   "source": [
    "<a id=\"classify\"></a>\n",
    "## 3. Classification and Validation([To top](#top))"
   ]
  },
  {
   "cell_type": "markdown",
   "metadata": {},
   "source": []
  },
  {
   "cell_type": "markdown",
   "metadata": {},
   "source": [
    "<a id=\"dummy\"></a>\n",
    "### A. Dummy classifier - Benchmark ([To top](#top))"
   ]
  },
  {
   "cell_type": "code",
   "execution_count": 25,
   "metadata": {},
   "outputs": [],
   "source": [
    "from sklearn.dummy import DummyClassifier\n",
    "from sklearn.metrics import confusion_matrix, precision_score, accuracy_score, recall_score"
   ]
  },
  {
   "cell_type": "code",
   "execution_count": 26,
   "metadata": {},
   "outputs": [
    {
     "data": {
      "text/plain": [
       "DummyClassifier(constant=None, random_state=0, strategy='stratified')"
      ]
     },
     "execution_count": 26,
     "metadata": {},
     "output_type": "execute_result"
    }
   ],
   "source": [
    "dummyClassifier=DummyClassifier(random_state=0)\n",
    "dummyClassifier.fit(trainFeatures, trainLabels)"
   ]
  },
  {
   "cell_type": "code",
   "execution_count": 29,
   "metadata": {},
   "outputs": [],
   "source": [
    "dummyPredictions=dummyClassifier.predict(testFeatures)"
   ]
  },
  {
   "cell_type": "code",
   "execution_count": 30,
   "metadata": {},
   "outputs": [
    {
     "data": {
      "image/png": "[encoded data removed]",
      "text/plain": [
       "<matplotlib.figure.Figure at 0x7fc8b42c0eb8>"
      ]
     },
     "metadata": {},
     "output_type": "display_data"
    }
   ],
   "source": [
    "array=confusion_matrix(testLabels.values.argmax(axis=1), dummyPredictions.argmax(axis=1))\n",
    "cm = pd.DataFrame(array, index = [\"True\", \"Predicted\"],\n",
    "                  columns = [\"True\", \"Predicted\"])\n",
    "plt.figure(figsize = (10,7))\n",
    "sn.heatmap(cm, annot=True)\n",
    "plt.show()\n",
    "#argmax so that it doesn't throw ValueError multilabel-indicator is not supported"
   ]
  },
  {
   "cell_type": "code",
   "execution_count": 31,
   "metadata": {},
   "outputs": [
    {
     "data": {
      "text/plain": [
       "0.26528627370684138"
      ]
     },
     "execution_count": 31,
     "metadata": {},
     "output_type": "execute_result"
    }
   ],
   "source": [
    "accuracy_score(testLabels, dummyPredictions)"
   ]
  },
  {
   "cell_type": "code",
   "execution_count": 32,
   "metadata": {},
   "outputs": [
    {
     "data": {
      "text/plain": [
       "0.49969428459962406"
      ]
     },
     "execution_count": 32,
     "metadata": {},
     "output_type": "execute_result"
    }
   ],
   "source": [
    "precision_score(testLabels, dummyPredictions,average='macro')"
   ]
  },
  {
   "cell_type": "code",
   "execution_count": 33,
   "metadata": {},
   "outputs": [
    {
     "data": {
      "text/plain": [
       "0.4976749621366886"
      ]
     },
     "execution_count": 33,
     "metadata": {},
     "output_type": "execute_result"
    }
   ],
   "source": [
    "recall_score(testLabels, dummyPredictions,average='macro')"
   ]
  },
  {
   "cell_type": "markdown",
   "metadata": {},
   "source": [
    "<a id=\"knn\"></a>\n",
    "### B. k-Nearest neighbors ([To top](#top))"
   ]
  },
  {
   "cell_type": "code",
   "execution_count": 34,
   "metadata": {},
   "outputs": [],
   "source": [
    "from sklearn.neighbors import KNeighborsClassifier\n",
    "from sklearn.model_selection import GridSearchCV, cross_val_score"
   ]
  },
  {
   "cell_type": "code",
   "execution_count": 66,
   "metadata": {},
   "outputs": [],
   "source": [
    "kFolds=2\n",
    "paramGrid={\n",
    "    \"n_neighbors\":[5, 20],\n",
    "    \"weights\":['uniform', 'distance'],\n",
    "    \"algorithm\":['ball_tree', 'kd_tree'],\n",
    "    \"leaf_size\":[20, 30, 40],\n",
    "}"
   ]
  },
  {
   "cell_type": "code",
   "execution_count": 67,
   "metadata": {},
   "outputs": [],
   "source": [
    "knnClassifier = KNeighborsClassifier()"
   ]
  },
  {
   "cell_type": "code",
   "execution_count": 68,
   "metadata": {},
   "outputs": [
    {
     "name": "stdout",
     "output_type": "stream",
     "text": [
      "Fitting 2 folds for each of 24 candidates, totalling 48 fits\n"
     ]
    },
    {
     "name": "stderr",
     "output_type": "stream",
     "text": [
      "[Parallel(n_jobs=20)]: Using backend LokyBackend with 20 concurrent workers.\n",
      "[Parallel(n_jobs=20)]: Done   1 tasks      | elapsed:  3.7min\n",
      "[Parallel(n_jobs=20)]: Done  34 out of  48 | elapsed:  7.0min remaining:  2.9min\n",
      "[Parallel(n_jobs=20)]: Done  48 out of  48 | elapsed:  8.3min finished\n"
     ]
    },
    {
     "data": {
      "text/plain": [
       "GridSearchCV(cv=2, error_score='raise-deprecating',\n",
       "       estimator=KNeighborsClassifier(algorithm='auto', leaf_size=30, metric='minkowski',\n",
       "           metric_params=None, n_jobs=None, n_neighbors=5, p=2,\n",
       "           weights='uniform'),\n",
       "       fit_params=None, iid='warn', n_jobs=20,\n",
       "       param_grid={'n_neighbors': [5, 20], 'weights': ['uniform', 'distance'], 'algorithm': ['ball_tree', 'kd_tree'], 'leaf_size': [20, 30, 40]},\n",
       "       pre_dispatch='2*n_jobs', refit=True, return_train_score=True,\n",
       "       scoring=None, verbose=2)"
      ]
     },
     "execution_count": 68,
     "metadata": {},
     "output_type": "execute_result"
    }
   ],
   "source": [
    "gridSearch = GridSearchCV(knnClassifier, cv=kFolds, n_jobs=20, param_grid=paramGrid, verbose=2, return_train_score=True)\n",
    "gridSearch.fit(features.values, labels.values)"
   ]
  },
  {
   "cell_type": "code",
   "execution_count": 70,
   "metadata": {},
   "outputs": [
    {
     "data": {
      "text/plain": [
       "KNeighborsClassifier(algorithm='ball_tree', leaf_size=20, metric='minkowski',\n",
       "           metric_params=None, n_jobs=None, n_neighbors=5, p=2,\n",
       "           weights='uniform')"
      ]
     },
     "execution_count": 70,
     "metadata": {},
     "output_type": "execute_result"
    }
   ],
   "source": [
    "knnClassifier.set_params(**gridSearch.best_params_)"
   ]
  },
  {
   "cell_type": "code",
   "execution_count": 71,
   "metadata": {},
   "outputs": [
    {
     "data": {
      "text/plain": [
       "KNeighborsClassifier(algorithm='ball_tree', leaf_size=20, metric='minkowski',\n",
       "           metric_params=None, n_jobs=None, n_neighbors=5, p=2,\n",
       "           weights='uniform')"
      ]
     },
     "execution_count": 71,
     "metadata": {},
     "output_type": "execute_result"
    }
   ],
   "source": [
    "knnClassifier.fit(trainFeatures, trainLabels) "
   ]
  },
  {
   "cell_type": "code",
   "execution_count": 72,
   "metadata": {},
   "outputs": [],
   "source": [
    "knnPredictions=knnClassifier.predict(testFeatures)"
   ]
  },
  {
   "cell_type": "code",
   "execution_count": 73,
   "metadata": {},
   "outputs": [
    {
     "data": {
      "image/png": "[encoded data removed]",
      "text/plain": [
       "<matplotlib.figure.Figure at 0x7fc8c417e390>"
      ]
     },
     "metadata": {},
     "output_type": "display_data"
    }
   ],
   "source": [
    "array=confusion_matrix(testLabels.values.argmax(axis=1), knnPredictions.argmax(axis=1))\n",
    "cm = pd.DataFrame(array, index = [\"True\", \"Predicted\"],\n",
    "                  columns = [\"True\", \"Predicted\"])\n",
    "plt.figure(figsize = (10,7))\n",
    "sn.heatmap(cm, annot=True)\n",
    "plt.show()\n",
    "#argmax so that it doesn't throw ValueError \"multilabel-indicator is not supported\""
   ]
  },
  {
   "cell_type": "code",
   "execution_count": 74,
   "metadata": {},
   "outputs": [
    {
     "data": {
      "text/plain": [
       "0.54127101942617284"
      ]
     },
     "execution_count": 74,
     "metadata": {},
     "output_type": "execute_result"
    }
   ],
   "source": [
    "accuracy_score(testLabels, knnPredictions)"
   ]
  },
  {
   "cell_type": "code",
   "execution_count": 75,
   "metadata": {},
   "outputs": [
    {
     "data": {
      "text/plain": [
       "0.52485440739115985"
      ]
     },
     "execution_count": 75,
     "metadata": {},
     "output_type": "execute_result"
    }
   ],
   "source": [
    "precision_score(testLabels, knnPredictions, average=\"weighted\")"
   ]
  },
  {
   "cell_type": "code",
   "execution_count": 76,
   "metadata": {},
   "outputs": [
    {
     "data": {
      "text/plain": [
       "0.54127101942617284"
      ]
     },
     "execution_count": 76,
     "metadata": {},
     "output_type": "execute_result"
    }
   ],
   "source": [
    "recall_score(testLabels, knnPredictions, average=\"weighted\")"
   ]
  },
  {
   "cell_type": "markdown",
   "metadata": {},
   "source": [
    "<a id=\"rf\"></a>\n",
    "### C. Random forest Classifier ([To top](#top))"
   ]
  },
  {
   "cell_type": "code",
   "execution_count": 77,
   "metadata": {},
   "outputs": [],
   "source": [
    "from sklearn.ensemble import RandomForestClassifier"
   ]
  },
  {
   "cell_type": "code",
   "execution_count": 91,
   "metadata": {},
   "outputs": [],
   "source": [
    "kFolds=2\n",
    "paramGrid={\n",
    "    \"n_estimators\":[10, 20, 40, 80],\n",
    "    \"criterion\":['gini', 'entropy'],\n",
    "    \"min_samples_split\":[2, 4, 6, 8],\n",
    "}"
   ]
  },
  {
   "cell_type": "code",
   "execution_count": 92,
   "metadata": {},
   "outputs": [],
   "source": [
    "rfClassifier = RandomForestClassifier()"
   ]
  },
  {
   "cell_type": "code",
   "execution_count": 93,
   "metadata": {},
   "outputs": [
    {
     "name": "stdout",
     "output_type": "stream",
     "text": [
      "Fitting 2 folds for each of 32 candidates, totalling 64 fits\n"
     ]
    },
    {
     "name": "stderr",
     "output_type": "stream",
     "text": [
      "[Parallel(n_jobs=20)]: Using backend LokyBackend with 20 concurrent workers.\n",
      "[Parallel(n_jobs=20)]: Done   1 tasks      | elapsed:    0.8s\n",
      "/usr/local/lib/python3.6/dist-packages/sklearn/externals/joblib/externals/loky/process_executor.py:700: UserWarning: A worker stopped while some jobs were given to the executor. This can be caused by a too short worker timeout or by a memory leak.\n",
      "  \"timeout or by a memory leak.\", UserWarning\n",
      "[Parallel(n_jobs=20)]: Done  58 out of  64 | elapsed:    8.5s remaining:    0.9s\n",
      "[Parallel(n_jobs=20)]: Done  64 out of  64 | elapsed:   10.0s finished\n"
     ]
    },
    {
     "data": {
      "text/plain": [
       "GridSearchCV(cv=2, error_score='raise-deprecating',\n",
       "       estimator=RandomForestClassifier(bootstrap=True, class_weight=None, criterion='gini',\n",
       "            max_depth=None, max_features='auto', max_leaf_nodes=None,\n",
       "            min_impurity_decrease=0.0, min_impurity_split=None,\n",
       "            min_samples_leaf=1, min_samples_split=2,\n",
       "            min_weight_fraction_leaf=0.0, n_estimators='warn', n_jobs=None,\n",
       "            oob_score=False, random_state=None, verbose=0,\n",
       "            warm_start=False),\n",
       "       fit_params=None, iid='warn', n_jobs=20,\n",
       "       param_grid={'n_estimators': [10, 20, 40, 80], 'criterion': ['gini', 'entropy'], 'min_samples_split': [2, 4, 6, 8]},\n",
       "       pre_dispatch='2*n_jobs', refit=True, return_train_score=True,\n",
       "       scoring=None, verbose=2)"
      ]
     },
     "execution_count": 93,
     "metadata": {},
     "output_type": "execute_result"
    }
   ],
   "source": [
    "gridSearch = GridSearchCV(rfClassifier, cv=kFolds, n_jobs=20, param_grid=paramGrid, verbose=2, return_train_score=True)\n",
    "gridSearch.fit(features.values, labels.values)"
   ]
  },
  {
   "cell_type": "code",
   "execution_count": 94,
   "metadata": {},
   "outputs": [
    {
     "data": {
      "text/plain": [
       "RandomForestClassifier(bootstrap=True, class_weight=None, criterion='gini',\n",
       "            max_depth=None, max_features='auto', max_leaf_nodes=None,\n",
       "            min_impurity_decrease=0.0, min_impurity_split=None,\n",
       "            min_samples_leaf=1, min_samples_split=6,\n",
       "            min_weight_fraction_leaf=0.0, n_estimators=40, n_jobs=None,\n",
       "            oob_score=False, random_state=None, verbose=0,\n",
       "            warm_start=False)"
      ]
     },
     "execution_count": 94,
     "metadata": {},
     "output_type": "execute_result"
    }
   ],
   "source": [
    "rfClassifier.set_params(**gridSearch.best_params_)\n",
    "rfClassifier.fit(trainFeatures, trainLabels)"
   ]
  },
  {
   "cell_type": "code",
   "execution_count": 95,
   "metadata": {},
   "outputs": [],
   "source": [
    "predictions = rfClassifier.predict(testFeatures)"
   ]
  },
  {
   "cell_type": "code",
   "execution_count": 96,
   "metadata": {},
   "outputs": [
    {
     "data": {
      "text/plain": [
       "0.57769189424381251"
      ]
     },
     "execution_count": 96,
     "metadata": {},
     "output_type": "execute_result"
    }
   ],
   "source": [
    "accuracy_score(testLabels, predictions)"
   ]
  },
  {
   "cell_type": "code",
   "execution_count": 97,
   "metadata": {},
   "outputs": [
    {
     "data": {
      "image/png": "[encoded data removed]",
      "text/plain": [
       "<matplotlib.figure.Figure at 0x7fc895135240>"
      ]
     },
     "metadata": {},
     "output_type": "display_data"
    }
   ],
   "source": [
    "#argmax so that it doesn't throw ValueError multilabel-indicator is not supported\n",
    "array=confusion_matrix(testLabels.values.argmax(axis=1), predictions.argmax(axis=1))\n",
    "cm = pd.DataFrame(array, index = [\"True\", \"Predicted\"],\n",
    "                  columns = [\"True\", \"Predicted\"])\n",
    "plt.figure(figsize = (10,7))\n",
    "sn.heatmap(cm, annot=True)\n",
    "plt.show()"
   ]
  },
  {
   "cell_type": "code",
   "execution_count": 98,
   "metadata": {},
   "outputs": [
    {
     "data": {
      "text/plain": [
       "0.5570218995247751"
      ]
     },
     "execution_count": 98,
     "metadata": {},
     "output_type": "execute_result"
    }
   ],
   "source": [
    "precision_score(testLabels, predictions,average='weighted')"
   ]
  },
  {
   "cell_type": "code",
   "execution_count": 99,
   "metadata": {},
   "outputs": [
    {
     "data": {
      "text/plain": [
       "0.57769189424381251"
      ]
     },
     "execution_count": 99,
     "metadata": {},
     "output_type": "execute_result"
    }
   ],
   "source": [
    "recall_score(testLabels, predictions,average='weighted')"
   ]
  },
  {
   "cell_type": "code",
   "execution_count": null,
   "metadata": {},
   "outputs": [],
   "source": []
  }
 ],
 "metadata": {
  "kernelspec": {
   "display_name": "Python 3",
   "language": "python",
   "name": "python3"
  },
  "language_info": {
   "codemirror_mode": {
    "name": "ipython",
    "version": 3
   },
   "file_extension": ".py",
   "mimetype": "text/x-python",
   "name": "python",
   "nbconvert_exporter": "python",
   "pygments_lexer": "ipython3",
   "version": "3.6.7"
  }
 },
 "nbformat": 4,
 "nbformat_minor": 2
}
